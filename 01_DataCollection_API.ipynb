{
 "cells": [
  {
   "cell_type": "code",
   "execution_count": 1,
   "id": "3629ee73",
   "metadata": {},
   "outputs": [],
   "source": [
    "import requests\n",
    "import pandas as pd\n",
    "import numpy as np\n",
    "import datetime\n",
    "\n",
    "# Setting this option will print all collumns of a dataframe\n",
    "pd.set_option('display.max_columns', None)\n",
    "# Setting this option will print all of the data in a feature\n",
    "pd.set_option('display.max_colwidth', None)"
   ]
  },
  {
   "cell_type": "code",
   "execution_count": 2,
   "id": "0d8fe6a9",
   "metadata": {},
   "outputs": [],
   "source": [
    "static_json_url='https://cf-courses-data.s3.us.cloud-object-storage.appdomain.cloud/IBM-DS0321EN-SkillsNetwork/datasets/API_call_spacex_api.json'"
   ]
  },
  {
   "cell_type": "code",
   "execution_count": 3,
   "id": "d8f3d18e",
   "metadata": {},
   "outputs": [],
   "source": [
    "response = requests.get(static_json_url)"
   ]
  },
  {
   "cell_type": "code",
   "execution_count": 4,
   "id": "8a2da78e",
   "metadata": {},
   "outputs": [],
   "source": [
    "data = response.json()\n",
    "data = pd.json_normalize(data)\n",
    "data = data[['rocket', 'payloads', 'launchpad', 'cores', 'flight_number', 'date_utc']]"
   ]
  },
  {
   "cell_type": "code",
   "execution_count": 5,
   "id": "8d0f5f88",
   "metadata": {},
   "outputs": [],
   "source": [
    "data = data[data['cores'].map(len)==1]\n",
    "data = data[data['payloads'].map(len)==1]\n",
    "data['cores'] = data['cores'].map(lambda x : x[0])\n",
    "data['payloads'] = data['payloads'].map(lambda x : x[0])\n",
    "data['date'] = pd.to_datetime(data['date_utc']).dt.date\n",
    "data = data[data['date'] <= datetime.date(2020, 11, 13)]"
   ]
  },
  {
   "cell_type": "code",
   "execution_count": 6,
   "id": "366dc1bf",
   "metadata": {},
   "outputs": [],
   "source": [
    "def getBoosterVersion(data):\n",
    "    for x in data['rocket']:\n",
    "        response = requests.get(\"https://api.spacexdata.com/v4/rockets/\"+str(x)).json()\n",
    "        BoosterVersion.append(response['name'])"
   ]
  },
  {
   "cell_type": "code",
   "execution_count": 7,
   "id": "46361968",
   "metadata": {},
   "outputs": [],
   "source": [
    "def getLaunchSite(data):\n",
    "    for x in data['launchpad']:\n",
    "        response = requests.get(\"https://api.spacexdata.com/v4/launchpads/\"+str(x)).json()\n",
    "        Longitude.append(response['longitude'])\n",
    "        Latitude.append(response['latitude'])\n",
    "        LaunchSite.append(response['name'])"
   ]
  },
  {
   "cell_type": "code",
   "execution_count": 8,
   "id": "ed69bdab",
   "metadata": {},
   "outputs": [],
   "source": [
    "def getPayloadData(data):\n",
    "    for load in data['payloads']:\n",
    "        response = requests.get(\"https://api.spacexdata.com/v4/payloads/\"+load).json()\n",
    "        PayloadMass.append(response['mass_kg'])\n",
    "        Orbit.append(response['orbit'])"
   ]
  },
  {
   "cell_type": "code",
   "execution_count": 9,
   "id": "6ca68263",
   "metadata": {},
   "outputs": [],
   "source": [
    "def getCoreData(data):\n",
    "    for core in data['cores']:\n",
    "            if core['core'] != None:\n",
    "                response = requests.get(\"https://api.spacexdata.com/v4/cores/\"+core['core']).json()\n",
    "                Block.append(response['block'])\n",
    "                ReusedCount.append(response['reuse_count'])\n",
    "                Serial.append(response['serial'])\n",
    "            else:\n",
    "                Block.append(None)\n",
    "                ReusedCount.append(None)\n",
    "                Serial.append(None)\n",
    "            Outcome.append(str(core['landing_success'])+' '+str(core['landing_type']))\n",
    "            Flights.append(core['flight'])\n",
    "            GridFins.append(core['gridfins'])\n",
    "            Reused.append(core['reused'])\n",
    "            Legs.append(core['legs'])\n",
    "            LandingPad.append(core['landpad'])"
   ]
  },
  {
   "cell_type": "code",
   "execution_count": 10,
   "id": "07d6e08b",
   "metadata": {},
   "outputs": [],
   "source": [
    "#Global variables \n",
    "BoosterVersion = []\n",
    "PayloadMass = []\n",
    "Orbit = []\n",
    "LaunchSite = []\n",
    "Outcome = []\n",
    "Flights = []\n",
    "GridFins = []\n",
    "Reused = []\n",
    "Legs = []\n",
    "LandingPad = []\n",
    "Block = []\n",
    "ReusedCount = []\n",
    "Serial = []\n",
    "Longitude = []\n",
    "Latitude = []"
   ]
  },
  {
   "cell_type": "code",
   "execution_count": 11,
   "id": "49121449",
   "metadata": {},
   "outputs": [],
   "source": [
    "getBoosterVersion(data)\n",
    "getLaunchSite(data)\n",
    "getPayloadData(data)\n",
    "getCoreData(data)"
   ]
  },
  {
   "cell_type": "code",
   "execution_count": 12,
   "id": "1dc2c513",
   "metadata": {},
   "outputs": [],
   "source": [
    "launch_dict = {'FlightNumber': list(data['flight_number']),\n",
    "'Date': list(data['date']),\n",
    "'BoosterVersion':BoosterVersion,\n",
    "'PayloadMass':PayloadMass,\n",
    "'Orbit':Orbit,\n",
    "'LaunchSite':LaunchSite,\n",
    "'Outcome':Outcome,\n",
    "'Flights':Flights,\n",
    "'GridFins':GridFins,\n",
    "'Reused':Reused,\n",
    "'Legs':Legs,\n",
    "'LandingPad':LandingPad,\n",
    "'Block':Block,\n",
    "'ReusedCount':ReusedCount,\n",
    "'Serial':Serial,\n",
    "'Longitude': Longitude,\n",
    "'Latitude': Latitude}"
   ]
  },
  {
   "cell_type": "code",
   "execution_count": 13,
   "id": "9f0fdf78",
   "metadata": {},
   "outputs": [
    {
     "data": {
      "text/plain": [
       "<bound method NDFrame.head of     FlightNumber        Date BoosterVersion  PayloadMass Orbit  \\\n",
       "0              1  2006-03-24       Falcon 1         20.0   LEO   \n",
       "1              2  2007-03-21       Falcon 1          NaN   LEO   \n",
       "2              4  2008-09-28       Falcon 1        165.0   LEO   \n",
       "3              5  2009-07-13       Falcon 1        200.0   LEO   \n",
       "4              6  2010-06-04       Falcon 9          NaN   LEO   \n",
       "..           ...         ...            ...          ...   ...   \n",
       "89           102  2020-09-03       Falcon 9      15600.0  VLEO   \n",
       "90           103  2020-10-06       Falcon 9      15600.0  VLEO   \n",
       "91           104  2020-10-18       Falcon 9      15600.0  VLEO   \n",
       "92           105  2020-10-24       Falcon 9      15600.0  VLEO   \n",
       "93           106  2020-11-05       Falcon 9       3681.0   MEO   \n",
       "\n",
       "         LaunchSite    Outcome  Flights  GridFins  Reused   Legs  \\\n",
       "0   Kwajalein Atoll  None None        1     False   False  False   \n",
       "1   Kwajalein Atoll  None None        1     False   False  False   \n",
       "2   Kwajalein Atoll  None None        1     False   False  False   \n",
       "3   Kwajalein Atoll  None None        1     False   False  False   \n",
       "4      CCSFS SLC 40  None None        1     False   False  False   \n",
       "..              ...        ...      ...       ...     ...    ...   \n",
       "89       KSC LC 39A  True ASDS        2      True    True   True   \n",
       "90       KSC LC 39A  True ASDS        3      True    True   True   \n",
       "91       KSC LC 39A  True ASDS        6      True    True   True   \n",
       "92     CCSFS SLC 40  True ASDS        3      True    True   True   \n",
       "93     CCSFS SLC 40  True ASDS        1      True   False   True   \n",
       "\n",
       "                  LandingPad  Block  ReusedCount    Serial   Longitude  \\\n",
       "0                       None    NaN            0  Merlin1A  167.743129   \n",
       "1                       None    NaN            0  Merlin2A  167.743129   \n",
       "2                       None    NaN            0  Merlin2C  167.743129   \n",
       "3                       None    NaN            0  Merlin3C  167.743129   \n",
       "4                       None    1.0            0     B0003  -80.577366   \n",
       "..                       ...    ...          ...       ...         ...   \n",
       "89  5e9e3032383ecb6bb234e7ca    5.0            7     B1060  -80.603956   \n",
       "90  5e9e3032383ecb6bb234e7ca    5.0            7     B1058  -80.603956   \n",
       "91  5e9e3032383ecb6bb234e7ca    5.0            9     B1051  -80.603956   \n",
       "92  5e9e3033383ecbb9e534e7cc    5.0            7     B1060  -80.577366   \n",
       "93  5e9e3032383ecb6bb234e7ca    5.0            2     B1062  -80.577366   \n",
       "\n",
       "     Latitude  \n",
       "0    9.047721  \n",
       "1    9.047721  \n",
       "2    9.047721  \n",
       "3    9.047721  \n",
       "4   28.561857  \n",
       "..        ...  \n",
       "89  28.608058  \n",
       "90  28.608058  \n",
       "91  28.608058  \n",
       "92  28.561857  \n",
       "93  28.561857  \n",
       "\n",
       "[94 rows x 17 columns]>"
      ]
     },
     "execution_count": 13,
     "metadata": {},
     "output_type": "execute_result"
    }
   ],
   "source": [
    "data2 = pd.DataFrame(launch_dict)\n",
    "data2.head"
   ]
  },
  {
   "cell_type": "code",
   "execution_count": 14,
   "id": "7627f4fb",
   "metadata": {},
   "outputs": [
    {
     "data": {
      "text/plain": [
       "(90, 17)"
      ]
     },
     "execution_count": 14,
     "metadata": {},
     "output_type": "execute_result"
    }
   ],
   "source": [
    "data_falcon9 = data2[data2['BoosterVersion']!='Falcon 1']\n",
    "data_falcon9copy = data_falcon9.copy()\n",
    "data_falcon9copy.loc[:,'FlightNumber'] = list(range(1, data_falcon9.shape[0]+1))\n",
    "data_falcon9= data_falcon9copy.copy()\n",
    "data_falcon9.isnull().sum()\n",
    "data_falcon9.shape"
   ]
  },
  {
   "cell_type": "code",
   "execution_count": 15,
   "id": "29363bc5",
   "metadata": {},
   "outputs": [
    {
     "data": {
      "text/plain": [
       "FlightNumber       0\n",
       "Date               0\n",
       "BoosterVersion     0\n",
       "PayloadMass        0\n",
       "Orbit              0\n",
       "LaunchSite         0\n",
       "Outcome            0\n",
       "Flights            0\n",
       "GridFins           0\n",
       "Reused             0\n",
       "Legs               0\n",
       "LandingPad        26\n",
       "Block              0\n",
       "ReusedCount        0\n",
       "Serial             0\n",
       "Longitude          0\n",
       "Latitude           0\n",
       "dtype: int64"
      ]
     },
     "execution_count": 15,
     "metadata": {},
     "output_type": "execute_result"
    }
   ],
   "source": [
    "avgPLM = data_falcon9['PayloadMass'].mean()\n",
    "data_falcon9['PayloadMass'].replace(np.nan, avgPLM, inplace = True)\n",
    "data_falcon9.isnull().sum()"
   ]
  },
  {
   "cell_type": "code",
   "execution_count": 16,
   "id": "a1ade4ed",
   "metadata": {},
   "outputs": [],
   "source": [
    "data_falcon9.to_csv('dataset_part_1.csv', index=False)"
   ]
  },
  {
   "cell_type": "code",
   "execution_count": null,
   "id": "0de8e61b",
   "metadata": {},
   "outputs": [],
   "source": []
  }
 ],
 "metadata": {
  "kernelspec": {
   "display_name": "Python 3",
   "language": "python",
   "name": "python3"
  },
  "language_info": {
   "codemirror_mode": {
    "name": "ipython",
    "version": 3
   },
   "file_extension": ".py",
   "mimetype": "text/x-python",
   "name": "python",
   "nbconvert_exporter": "python",
   "pygments_lexer": "ipython3",
   "version": "3.8.8"
  }
 },
 "nbformat": 4,
 "nbformat_minor": 5
}
